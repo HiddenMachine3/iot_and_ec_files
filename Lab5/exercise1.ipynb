{
 "cells": [
  {
   "cell_type": "markdown",
   "metadata": {},
   "source": [
    "### Define an employee structured datatype"
   ]
  },
  {
   "cell_type": "code",
   "execution_count": 80,
   "metadata": {},
   "outputs": [],
   "source": [
    "import numpy as np\n",
    "\n",
    "npEmpDataDef = np.dtype(dtype=[('id', np.uint), ('name', 'S64'),('age', np.ubyte), ('height', np.ubyte)]) # or np.str_"
   ]
  },
  {
   "cell_type": "markdown",
   "metadata": {},
   "source": [
    "### define init and helper functions"
   ]
  },
  {
   "cell_type": "code",
   "execution_count": 81,
   "metadata": {},
   "outputs": [],
   "source": [
    "def assignEmpName(npEmpArr):\n",
    "    for i in range(len(npEmpArr)):\n",
    "        npEmpArr[i]['name'] = \"name\" + str(i)\n",
    "\n",
    "\n",
    "def assignEmpID(npEmpArr):\n",
    "    for i in range(len(npEmpArr)):\n",
    "        npEmpArr[i]['id'] = i+1\n",
    "\n",
    "\n",
    "def assignEmpAge(npEmpArr):\n",
    "    for i in range(len(npEmpArr)):\n",
    "        npEmpArr[i]['age'] = np.random.randint(20, high=60)\n",
    "\n",
    "\n",
    "def assignEmpHeight(npEmpArr):\n",
    "    for i in range(len(npEmpArr)):\n",
    "        npEmpArr[i]['height'] = np.random.randint(150, high=180)\n",
    "\n",
    "\n",
    "def findAvgs(npEmpArr) -> tuple:\n",
    "    sum_height = 0\n",
    "    sum_age = 0\n",
    "    for i in range(len(npEmpArr)):\n",
    "        sum_height += npEmpArr[i]['height']\n",
    "        sum_age += npEmpArr[i]['age']\n",
    "    \n",
    "    return sum_age/len(npEmpArr), sum_height/len(npEmpArr)\n",
    "\n",
    "def findAvgsUsingNumpyRoutine(npEmpArr) -> tuple:\n",
    "    return np.average(npEmpArr[\"age\"]), np.average(npEmpArr[\"height\"])"
   ]
  },
  {
   "cell_type": "markdown",
   "metadata": {},
   "source": [
    "### Using our functions on an array"
   ]
  },
  {
   "cell_type": "code",
   "execution_count": 82,
   "metadata": {},
   "outputs": [],
   "source": [
    "empNum = 1000000 # number of employees\n",
    "\n",
    "npEmpArr = np.zeros(empNum, dtype = npEmpDataDef)"
   ]
  },
  {
   "cell_type": "code",
   "execution_count": 83,
   "metadata": {},
   "outputs": [
    {
     "data": {
      "text/plain": [
       "array([(0, b'', 0, 0), (0, b'', 0, 0), (0, b'', 0, 0), ...,\n",
       "       (0, b'', 0, 0), (0, b'', 0, 0), (0, b'', 0, 0)],\n",
       "      dtype=[('id', '<u4'), ('name', 'S64'), ('age', 'u1'), ('height', 'u1')])"
      ]
     },
     "execution_count": 83,
     "metadata": {},
     "output_type": "execute_result"
    }
   ],
   "source": [
    "npEmpArr"
   ]
  },
  {
   "cell_type": "code",
   "execution_count": 84,
   "metadata": {},
   "outputs": [],
   "source": [
    "assignEmpName(npEmpArr)\n",
    "assignEmpAge(npEmpArr)\n",
    "assignEmpHeight(npEmpArr)\n",
    "assignEmpID(npEmpArr)"
   ]
  },
  {
   "cell_type": "code",
   "execution_count": 85,
   "metadata": {},
   "outputs": [
    {
     "data": {
      "text/plain": [
       "array([(1, b'name0', 58, 162), (2, b'name1', 43, 157),\n",
       "       (3, b'name2', 37, 155), (4, b'name3', 44, 152),\n",
       "       (5, b'name4', 48, 160)],\n",
       "      dtype=[('id', '<u4'), ('name', 'S64'), ('age', 'u1'), ('height', 'u1')])"
      ]
     },
     "execution_count": 85,
     "metadata": {},
     "output_type": "execute_result"
    }
   ],
   "source": [
    "npEmpArr[:5]"
   ]
  },
  {
   "cell_type": "code",
   "execution_count": 86,
   "metadata": {},
   "outputs": [],
   "source": [
    "import time\n",
    "\n",
    "start = time.time_ns()\n",
    "age_avg, height_avg = findAvgs(npEmpArr)\n",
    "time_taken_normal = time.time_ns()-start\n",
    "\n",
    "start = time.time_ns()\n",
    "age_avg_np, height_avg_np = findAvgsUsingNumpyRoutine(npEmpArr)\n",
    "time_taken_np = time.time_ns()-start"
   ]
  },
  {
   "cell_type": "markdown",
   "metadata": {},
   "source": [
    "our custom function's results"
   ]
  },
  {
   "cell_type": "code",
   "execution_count": 87,
   "metadata": {},
   "outputs": [
    {
     "data": {
      "text/plain": [
       "(39.489147, 164.497963)"
      ]
     },
     "metadata": {},
     "output_type": "display_data"
    },
    {
     "name": "stdout",
     "output_type": "stream",
     "text": [
      "time taken(ns) : 3814146300\n"
     ]
    }
   ],
   "source": [
    "display((age_avg, height_avg))\n",
    "print(\"time taken(ns) :\",time_taken_normal)"
   ]
  },
  {
   "cell_type": "markdown",
   "metadata": {},
   "source": [
    "numpy's results"
   ]
  },
  {
   "cell_type": "code",
   "execution_count": 88,
   "metadata": {},
   "outputs": [
    {
     "data": {
      "text/plain": [
       "(39.489147, 164.497963)"
      ]
     },
     "metadata": {},
     "output_type": "display_data"
    },
    {
     "name": "stdout",
     "output_type": "stream",
     "text": [
      "time taken using numpy(ns): 18152800\n"
     ]
    }
   ],
   "source": [
    "display((age_avg_np, height_avg_np))\n",
    "print(\"time taken using numpy(ns):\",time_taken_np)"
   ]
  },
  {
   "cell_type": "code",
   "execution_count": 89,
   "metadata": {},
   "outputs": [
    {
     "name": "stdout",
     "output_type": "stream",
     "text": [
      "difference in computation time(ns) : 3795993500\n"
     ]
    }
   ],
   "source": [
    "time_difference = time_taken_normal - time_taken_np\n",
    "print(\"difference in computation time(ns) :\", time_difference)"
   ]
  },
  {
   "cell_type": "markdown",
   "metadata": {},
   "source": [
    "Numpy is probably performing better because for loops in python are slower. Numpy uses C under the hood, and any loop in it will almost always be faster than python loops. Morever, numpy uses an optimized implementation for calculating average"
   ]
  }
 ],
 "metadata": {
  "kernelspec": {
   "display_name": "Python 3",
   "language": "python",
   "name": "python3"
  },
  "language_info": {
   "codemirror_mode": {
    "name": "ipython",
    "version": 3
   },
   "file_extension": ".py",
   "mimetype": "text/x-python",
   "name": "python",
   "nbconvert_exporter": "python",
   "pygments_lexer": "ipython3",
   "version": "3.12.1"
  }
 },
 "nbformat": 4,
 "nbformat_minor": 2
}
