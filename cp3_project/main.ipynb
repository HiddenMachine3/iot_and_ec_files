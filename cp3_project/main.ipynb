{
 "cells": [
  {
   "cell_type": "code",
   "execution_count": 20,
   "metadata": {},
   "outputs": [],
   "source": [
    "import pandas as pd\n",
    "import tensorflow as tf\n",
    "import pandas as pd\n",
    "import numpy as np\n",
    "import matplotlib.pyplot as plt\n",
    "from sklearn.model_selection import train_test_split"
   ]
  },
  {
   "cell_type": "code",
   "execution_count": 21,
   "metadata": {},
   "outputs": [
    {
     "data": {
      "text/html": [
       "<div>\n",
       "<style scoped>\n",
       "    .dataframe tbody tr th:only-of-type {\n",
       "        vertical-align: middle;\n",
       "    }\n",
       "\n",
       "    .dataframe tbody tr th {\n",
       "        vertical-align: top;\n",
       "    }\n",
       "\n",
       "    .dataframe thead th {\n",
       "        text-align: right;\n",
       "    }\n",
       "</style>\n",
       "<table border=\"1\" class=\"dataframe\">\n",
       "  <thead>\n",
       "    <tr style=\"text-align: right;\">\n",
       "      <th></th>\n",
       "      <th>TPSA(Tot)</th>\n",
       "      <th>SAacc</th>\n",
       "      <th>H-050</th>\n",
       "      <th>MLOGP</th>\n",
       "      <th>RDCHI</th>\n",
       "      <th>GATS1p</th>\n",
       "      <th>nN</th>\n",
       "      <th>C-040</th>\n",
       "      <th>quantitative response</th>\n",
       "    </tr>\n",
       "  </thead>\n",
       "  <tbody>\n",
       "    <tr>\n",
       "      <th>0</th>\n",
       "      <td>0.00</td>\n",
       "      <td>0.0</td>\n",
       "      <td>0</td>\n",
       "      <td>2.419</td>\n",
       "      <td>1.225</td>\n",
       "      <td>0.667</td>\n",
       "      <td>0</td>\n",
       "      <td>0</td>\n",
       "      <td>3.740</td>\n",
       "    </tr>\n",
       "    <tr>\n",
       "      <th>1</th>\n",
       "      <td>0.00</td>\n",
       "      <td>0.0</td>\n",
       "      <td>0</td>\n",
       "      <td>2.638</td>\n",
       "      <td>1.401</td>\n",
       "      <td>0.632</td>\n",
       "      <td>0</td>\n",
       "      <td>0</td>\n",
       "      <td>4.330</td>\n",
       "    </tr>\n",
       "    <tr>\n",
       "      <th>2</th>\n",
       "      <td>9.23</td>\n",
       "      <td>11.0</td>\n",
       "      <td>0</td>\n",
       "      <td>5.799</td>\n",
       "      <td>2.930</td>\n",
       "      <td>0.486</td>\n",
       "      <td>0</td>\n",
       "      <td>0</td>\n",
       "      <td>7.019</td>\n",
       "    </tr>\n",
       "    <tr>\n",
       "      <th>3</th>\n",
       "      <td>9.23</td>\n",
       "      <td>11.0</td>\n",
       "      <td>0</td>\n",
       "      <td>5.453</td>\n",
       "      <td>2.887</td>\n",
       "      <td>0.495</td>\n",
       "      <td>0</td>\n",
       "      <td>0</td>\n",
       "      <td>6.723</td>\n",
       "    </tr>\n",
       "    <tr>\n",
       "      <th>4</th>\n",
       "      <td>9.23</td>\n",
       "      <td>11.0</td>\n",
       "      <td>0</td>\n",
       "      <td>4.068</td>\n",
       "      <td>2.758</td>\n",
       "      <td>0.695</td>\n",
       "      <td>0</td>\n",
       "      <td>0</td>\n",
       "      <td>5.979</td>\n",
       "    </tr>\n",
       "  </tbody>\n",
       "</table>\n",
       "</div>"
      ],
      "text/plain": [
       "   TPSA(Tot)  SAacc  H-050  MLOGP  RDCHI  GATS1p  nN  C-040  \\\n",
       "0       0.00    0.0      0  2.419  1.225   0.667   0      0   \n",
       "1       0.00    0.0      0  2.638  1.401   0.632   0      0   \n",
       "2       9.23   11.0      0  5.799  2.930   0.486   0      0   \n",
       "3       9.23   11.0      0  5.453  2.887   0.495   0      0   \n",
       "4       9.23   11.0      0  4.068  2.758   0.695   0      0   \n",
       "\n",
       "   quantitative response  \n",
       "0                  3.740  \n",
       "1                  4.330  \n",
       "2                  7.019  \n",
       "3                  6.723  \n",
       "4                  5.979  "
      ]
     },
     "execution_count": 21,
     "metadata": {},
     "output_type": "execute_result"
    }
   ],
   "source": [
    "column_names = [\"TPSA(Tot)\", \"SAacc\", \"H-050\", \"MLOGP\", \"RDCHI\", \"GATS1p\", \"nN\", \"C-040\", \"quantitative response\"]\n",
    "df = pd.read_csv('qsar_aquatic_toxicity.csv', names=column_names, delimiter=';')\n",
    "df.head()"
   ]
  },
  {
   "cell_type": "code",
   "execution_count": 22,
   "metadata": {},
   "outputs": [],
   "source": [
    "train_df, test_df = train_test_split(df, test_size=0.2)\n",
    "x_train, y_train = train_df.drop('quantitative response', axis=1), train_df['quantitative response']\n",
    "x_test, y_test = test_df.drop('quantitative response', axis=1), test_df['quantitative response']"
   ]
  },
  {
   "cell_type": "code",
   "execution_count": 23,
   "metadata": {},
   "outputs": [
    {
     "data": {
      "text/html": [
       "<div>\n",
       "<style scoped>\n",
       "    .dataframe tbody tr th:only-of-type {\n",
       "        vertical-align: middle;\n",
       "    }\n",
       "\n",
       "    .dataframe tbody tr th {\n",
       "        vertical-align: top;\n",
       "    }\n",
       "\n",
       "    .dataframe thead th {\n",
       "        text-align: right;\n",
       "    }\n",
       "</style>\n",
       "<table border=\"1\" class=\"dataframe\">\n",
       "  <thead>\n",
       "    <tr style=\"text-align: right;\">\n",
       "      <th></th>\n",
       "      <th>TPSA(Tot)</th>\n",
       "      <th>SAacc</th>\n",
       "      <th>H-050</th>\n",
       "      <th>MLOGP</th>\n",
       "      <th>RDCHI</th>\n",
       "      <th>GATS1p</th>\n",
       "      <th>nN</th>\n",
       "      <th>C-040</th>\n",
       "      <th>quantitative response</th>\n",
       "    </tr>\n",
       "  </thead>\n",
       "  <tbody>\n",
       "    <tr>\n",
       "      <th>29</th>\n",
       "      <td>3.24</td>\n",
       "      <td>3.124</td>\n",
       "      <td>0</td>\n",
       "      <td>4.480</td>\n",
       "      <td>3.258</td>\n",
       "      <td>1.310</td>\n",
       "      <td>1</td>\n",
       "      <td>0</td>\n",
       "      <td>5.721</td>\n",
       "    </tr>\n",
       "    <tr>\n",
       "      <th>545</th>\n",
       "      <td>0.00</td>\n",
       "      <td>0.000</td>\n",
       "      <td>0</td>\n",
       "      <td>2.255</td>\n",
       "      <td>1.800</td>\n",
       "      <td>0.917</td>\n",
       "      <td>0</td>\n",
       "      <td>0</td>\n",
       "      <td>2.480</td>\n",
       "    </tr>\n",
       "    <tr>\n",
       "      <th>471</th>\n",
       "      <td>129.95</td>\n",
       "      <td>30.530</td>\n",
       "      <td>0</td>\n",
       "      <td>1.145</td>\n",
       "      <td>2.637</td>\n",
       "      <td>1.444</td>\n",
       "      <td>0</td>\n",
       "      <td>0</td>\n",
       "      <td>9.150</td>\n",
       "    </tr>\n",
       "    <tr>\n",
       "      <th>530</th>\n",
       "      <td>116.67</td>\n",
       "      <td>180.366</td>\n",
       "      <td>4</td>\n",
       "      <td>-1.960</td>\n",
       "      <td>2.021</td>\n",
       "      <td>1.830</td>\n",
       "      <td>1</td>\n",
       "      <td>1</td>\n",
       "      <td>3.908</td>\n",
       "    </tr>\n",
       "    <tr>\n",
       "      <th>204</th>\n",
       "      <td>45.82</td>\n",
       "      <td>50.747</td>\n",
       "      <td>0</td>\n",
       "      <td>2.241</td>\n",
       "      <td>2.108</td>\n",
       "      <td>0.942</td>\n",
       "      <td>1</td>\n",
       "      <td>0</td>\n",
       "      <td>4.040</td>\n",
       "    </tr>\n",
       "  </tbody>\n",
       "</table>\n",
       "</div>"
      ],
      "text/plain": [
       "     TPSA(Tot)    SAacc  H-050  MLOGP  RDCHI  GATS1p  nN  C-040  \\\n",
       "29        3.24    3.124      0  4.480  3.258   1.310   1      0   \n",
       "545       0.00    0.000      0  2.255  1.800   0.917   0      0   \n",
       "471     129.95   30.530      0  1.145  2.637   1.444   0      0   \n",
       "530     116.67  180.366      4 -1.960  2.021   1.830   1      1   \n",
       "204      45.82   50.747      0  2.241  2.108   0.942   1      0   \n",
       "\n",
       "     quantitative response  \n",
       "29                   5.721  \n",
       "545                  2.480  \n",
       "471                  9.150  \n",
       "530                  3.908  \n",
       "204                  4.040  "
      ]
     },
     "execution_count": 23,
     "metadata": {},
     "output_type": "execute_result"
    }
   ],
   "source": [
    "train_df.head()"
   ]
  },
  {
   "cell_type": "code",
   "execution_count": 24,
   "metadata": {},
   "outputs": [
    {
     "name": "stdout",
     "output_type": "stream",
     "text": [
      "Model: \"sequential_1\"\n",
      "_________________________________________________________________\n",
      " Layer (type)                Output Shape              Param #   \n",
      "=================================================================\n",
      " dense_2 (Dense)             (None, 128)               1152      \n",
      "                                                                 \n",
      " dropout_1 (Dropout)         (None, 128)               0         \n",
      "                                                                 \n",
      " dense_3 (Dense)             (None, 64)                8256      \n",
      "                                                                 \n",
      " dropout_2 (Dropout)         (None, 64)                0         \n",
      "                                                                 \n",
      " dense_4 (Dense)             (None, 32)                2080      \n",
      "                                                                 \n",
      " dropout_3 (Dropout)         (None, 32)                0         \n",
      "                                                                 \n",
      " dense_5 (Dense)             (None, 1)                 33        \n",
      "                                                                 \n",
      "=================================================================\n",
      "Total params: 11,521\n",
      "Trainable params: 11,521\n",
      "Non-trainable params: 0\n",
      "_________________________________________________________________\n"
     ]
    }
   ],
   "source": [
    "DENSE1_SIZE = 128\n",
    "DENSE2_SIZE = 64\n",
    "DENSE3_SIZE = 32\n",
    "\n",
    "model = tf.keras.models.Sequential(\n",
    "    [\n",
    "        tf.keras.layers.Input(shape=(x_train.shape[1:])),\n",
    "        tf.keras.layers.Dense(DENSE1_SIZE, activation=\"relu\"),\n",
    "        tf.keras.layers.Dropout(0.2),\n",
    "        tf.keras.layers.Dense(DENSE2_SIZE, activation=\"relu\"),\n",
    "        tf.keras.layers.Dropout(0.2),\n",
    "        tf.keras.layers.Dense(DENSE3_SIZE, activation=\"relu\"),\n",
    "        tf.keras.layers.Dropout(0.2),\n",
    "        tf.keras.layers.Dense(1),\n",
    "    ]\n",
    ")\n",
    "model.summary()"
   ]
  },
  {
   "cell_type": "code",
   "execution_count": 25,
   "metadata": {},
   "outputs": [],
   "source": [
    "# %pip install pydot graphviz"
   ]
  },
  {
   "cell_type": "code",
   "execution_count": 26,
   "metadata": {},
   "outputs": [
    {
     "data": {
      "image/png": "[encoded data removed]",
      "text/plain": [
       "<IPython.core.display.Image object>"
      ]
     },
     "execution_count": 26,
     "metadata": {},
     "output_type": "execute_result"
    }
   ],
   "source": [
    "from tensorflow.keras.utils import plot_model\n",
    "\n",
    "\n",
    "# to make graphviz visible on my python env even though its already there on my cmd path\n",
    "import os\n",
    "os.environ['PATH'] += r';D:\\opt\\Graphviz\\bin'\n",
    "###\n",
    "\n",
    "plot_model(model, to_file='model_plot.png', show_shapes=True, show_layer_names=True)\n"
   ]
  },
  {
   "cell_type": "code",
   "execution_count": 28,
   "metadata": {},
   "outputs": [
    {
     "data": {
      "text/plain": [
       "TensorShape([None, 8])"
      ]
     },
     "execution_count": 28,
     "metadata": {},
     "output_type": "execute_result"
    }
   ],
   "source": [
    "model.input.shape"
   ]
  },
  {
   "cell_type": "code",
   "execution_count": 29,
   "metadata": {},
   "outputs": [],
   "source": [
    "predictions = model(x_test.to_numpy())"
   ]
  },
  {
   "cell_type": "code",
   "execution_count": 30,
   "metadata": {},
   "outputs": [],
   "source": [
    "loss_fn = tf.keras.losses.MeanSquaredError()"
   ]
  },
  {
   "cell_type": "code",
   "execution_count": 31,
   "metadata": {},
   "outputs": [
    {
     "data": {
      "text/plain": [
       "193.70764"
      ]
     },
     "execution_count": 31,
     "metadata": {},
     "output_type": "execute_result"
    }
   ],
   "source": [
    "loss_fn(y_test.to_numpy(), predictions).numpy()"
   ]
  },
  {
   "cell_type": "code",
   "execution_count": 38,
   "metadata": {},
   "outputs": [],
   "source": [
    "model.compile(optimizer=tf.keras.optimizers.Adam(learning_rate=0.0001),\n",
    "              loss=loss_fn,\n",
    "              metrics=['mse', 'mae'])"
   ]
  },
  {
   "cell_type": "code",
   "execution_count": 39,
   "metadata": {},
   "outputs": [
    {
     "name": "stdout",
     "output_type": "stream",
     "text": [
      "Epoch 1/100\n",
      "14/14 [==============================] - 2s 27ms/step - loss: 1.6143 - mse: 1.6143 - mae: 0.9713 - val_loss: 1.6390 - val_mse: 1.6390 - val_mae: 0.9032\n",
      "Epoch 2/100\n",
      "14/14 [==============================] - 0s 7ms/step - loss: 1.6481 - mse: 1.6481 - mae: 0.9870 - val_loss: 1.6619 - val_mse: 1.6619 - val_mae: 0.9131\n",
      "Epoch 3/100\n",
      "14/14 [==============================] - 0s 7ms/step - loss: 1.5550 - mse: 1.5550 - mae: 0.9682 - val_loss: 1.6348 - val_mse: 1.6348 - val_mae: 0.9026\n",
      "Epoch 4/100\n",
      "14/14 [==============================] - 0s 8ms/step - loss: 1.4732 - mse: 1.4732 - mae: 0.9392 - val_loss: 1.6628 - val_mse: 1.6628 - val_mae: 0.9059\n",
      "Epoch 5/100\n",
      "14/14 [==============================] - 0s 7ms/step - loss: 1.4835 - mse: 1.4835 - mae: 0.9393 - val_loss: 1.6061 - val_mse: 1.6061 - val_mae: 0.8881\n",
      "Epoch 6/100\n",
      "14/14 [==============================] - 0s 6ms/step - loss: 1.5936 - mse: 1.5936 - mae: 0.9572 - val_loss: 1.5835 - val_mse: 1.5835 - val_mae: 0.8822\n",
      "Epoch 7/100\n",
      "14/14 [==============================] - 0s 6ms/step - loss: 1.3990 - mse: 1.3990 - mae: 0.9116 - val_loss: 1.6357 - val_mse: 1.6357 - val_mae: 0.8982\n",
      "Epoch 8/100\n",
      "14/14 [==============================] - 0s 5ms/step - loss: 1.6066 - mse: 1.6066 - mae: 0.9811 - val_loss: 1.6739 - val_mse: 1.6739 - val_mae: 0.9091\n",
      "Epoch 9/100\n",
      "14/14 [==============================] - 0s 6ms/step - loss: 1.4475 - mse: 1.4475 - mae: 0.9030 - val_loss: 1.6338 - val_mse: 1.6338 - val_mae: 0.8982\n",
      "Epoch 10/100\n",
      "14/14 [==============================] - 0s 7ms/step - loss: 1.7142 - mse: 1.7142 - mae: 0.9781 - val_loss: 1.6095 - val_mse: 1.6095 - val_mae: 0.8915\n",
      "Epoch 11/100\n",
      "14/14 [==============================] - 0s 9ms/step - loss: 1.3905 - mse: 1.3905 - mae: 0.9057 - val_loss: 1.6824 - val_mse: 1.6824 - val_mae: 0.9142\n",
      "Epoch 12/100\n",
      "14/14 [==============================] - 0s 5ms/step - loss: 1.4779 - mse: 1.4779 - mae: 0.9304 - val_loss: 1.6546 - val_mse: 1.6546 - val_mae: 0.9059\n",
      "Epoch 13/100\n",
      "14/14 [==============================] - 0s 6ms/step - loss: 1.5472 - mse: 1.5472 - mae: 0.9505 - val_loss: 1.6329 - val_mse: 1.6329 - val_mae: 0.8998\n",
      "Epoch 14/100\n",
      "14/14 [==============================] - 0s 6ms/step - loss: 1.6072 - mse: 1.6072 - mae: 0.9577 - val_loss: 1.6898 - val_mse: 1.6898 - val_mae: 0.9155\n",
      "Epoch 15/100\n",
      "14/14 [==============================] - 0s 7ms/step - loss: 1.4503 - mse: 1.4503 - mae: 0.9115 - val_loss: 1.6875 - val_mse: 1.6875 - val_mae: 0.9139\n",
      "Epoch 16/100\n",
      "14/14 [==============================] - 0s 7ms/step - loss: 1.5829 - mse: 1.5829 - mae: 0.9689 - val_loss: 1.6591 - val_mse: 1.6591 - val_mae: 0.9049\n",
      "Epoch 17/100\n",
      "14/14 [==============================] - 0s 6ms/step - loss: 1.6008 - mse: 1.6008 - mae: 0.9727 - val_loss: 1.6680 - val_mse: 1.6680 - val_mae: 0.9089\n",
      "Epoch 18/100\n",
      "14/14 [==============================] - 0s 6ms/step - loss: 1.5001 - mse: 1.5001 - mae: 0.9518 - val_loss: 1.7039 - val_mse: 1.7039 - val_mae: 0.9198\n",
      "Epoch 19/100\n",
      "14/14 [==============================] - 0s 6ms/step - loss: 1.7107 - mse: 1.7107 - mae: 0.9929 - val_loss: 1.7121 - val_mse: 1.7121 - val_mae: 0.9217\n",
      "Epoch 20/100\n",
      "14/14 [==============================] - 0s 6ms/step - loss: 1.6557 - mse: 1.6557 - mae: 0.9747 - val_loss: 1.7379 - val_mse: 1.7379 - val_mae: 0.9298\n",
      "Epoch 21/100\n",
      "14/14 [==============================] - 0s 5ms/step - loss: 1.6298 - mse: 1.6298 - mae: 0.9971 - val_loss: 1.6612 - val_mse: 1.6612 - val_mae: 0.9078\n",
      "Epoch 22/100\n",
      "14/14 [==============================] - 0s 4ms/step - loss: 1.6254 - mse: 1.6254 - mae: 0.9713 - val_loss: 1.6590 - val_mse: 1.6590 - val_mae: 0.9043\n",
      "Epoch 23/100\n",
      "14/14 [==============================] - 0s 5ms/step - loss: 1.5359 - mse: 1.5359 - mae: 0.9410 - val_loss: 1.6216 - val_mse: 1.6216 - val_mae: 0.8951\n",
      "Epoch 24/100\n",
      "14/14 [==============================] - 0s 5ms/step - loss: 1.4853 - mse: 1.4853 - mae: 0.9373 - val_loss: 1.6824 - val_mse: 1.6824 - val_mae: 0.9118\n",
      "Epoch 25/100\n",
      "14/14 [==============================] - 0s 6ms/step - loss: 1.5492 - mse: 1.5492 - mae: 0.9761 - val_loss: 1.7102 - val_mse: 1.7102 - val_mae: 0.9183\n",
      "Epoch 26/100\n",
      "14/14 [==============================] - 0s 5ms/step - loss: 1.4867 - mse: 1.4867 - mae: 0.9380 - val_loss: 1.6929 - val_mse: 1.6929 - val_mae: 0.9163\n",
      "Epoch 27/100\n",
      "14/14 [==============================] - 0s 4ms/step - loss: 1.7040 - mse: 1.7040 - mae: 0.9748 - val_loss: 1.6715 - val_mse: 1.6715 - val_mae: 0.9106\n",
      "Epoch 28/100\n",
      "14/14 [==============================] - 0s 5ms/step - loss: 1.6298 - mse: 1.6298 - mae: 0.9590 - val_loss: 1.6882 - val_mse: 1.6882 - val_mae: 0.9160\n",
      "Epoch 29/100\n",
      "14/14 [==============================] - 0s 5ms/step - loss: 1.5333 - mse: 1.5333 - mae: 0.9600 - val_loss: 1.7387 - val_mse: 1.7387 - val_mae: 0.9288\n",
      "Epoch 30/100\n",
      "14/14 [==============================] - 0s 6ms/step - loss: 1.6134 - mse: 1.6134 - mae: 0.9442 - val_loss: 1.6791 - val_mse: 1.6791 - val_mae: 0.9114\n",
      "Epoch 31/100\n",
      "14/14 [==============================] - 0s 6ms/step - loss: 1.5767 - mse: 1.5767 - mae: 0.9645 - val_loss: 1.7236 - val_mse: 1.7236 - val_mae: 0.9219\n",
      "Epoch 32/100\n",
      "14/14 [==============================] - 0s 6ms/step - loss: 1.5236 - mse: 1.5236 - mae: 0.9487 - val_loss: 1.7851 - val_mse: 1.7851 - val_mae: 0.9432\n",
      "Epoch 33/100\n",
      "14/14 [==============================] - 0s 6ms/step - loss: 1.5266 - mse: 1.5266 - mae: 0.9354 - val_loss: 1.7325 - val_mse: 1.7325 - val_mae: 0.9280\n",
      "Epoch 34/100\n",
      "14/14 [==============================] - 0s 7ms/step - loss: 1.5439 - mse: 1.5439 - mae: 0.9702 - val_loss: 1.6757 - val_mse: 1.6757 - val_mae: 0.9117\n",
      "Epoch 35/100\n",
      "14/14 [==============================] - 0s 4ms/step - loss: 1.4329 - mse: 1.4329 - mae: 0.9158 - val_loss: 1.6614 - val_mse: 1.6614 - val_mae: 0.9095\n",
      "Epoch 36/100\n",
      "14/14 [==============================] - 0s 4ms/step - loss: 1.6143 - mse: 1.6143 - mae: 0.9573 - val_loss: 1.6601 - val_mse: 1.6601 - val_mae: 0.9102\n",
      "Epoch 37/100\n",
      "14/14 [==============================] - 0s 5ms/step - loss: 1.6398 - mse: 1.6398 - mae: 0.9813 - val_loss: 1.6562 - val_mse: 1.6562 - val_mae: 0.9095\n",
      "Epoch 38/100\n",
      "14/14 [==============================] - 0s 6ms/step - loss: 1.4211 - mse: 1.4211 - mae: 0.9115 - val_loss: 1.6718 - val_mse: 1.6718 - val_mae: 0.9117\n",
      "Epoch 39/100\n",
      "14/14 [==============================] - 0s 4ms/step - loss: 1.5846 - mse: 1.5846 - mae: 0.9605 - val_loss: 1.6910 - val_mse: 1.6910 - val_mae: 0.9145\n",
      "Epoch 40/100\n",
      "14/14 [==============================] - 0s 4ms/step - loss: 1.4513 - mse: 1.4513 - mae: 0.9346 - val_loss: 1.6863 - val_mse: 1.6863 - val_mae: 0.9114\n",
      "Epoch 41/100\n",
      "14/14 [==============================] - 0s 5ms/step - loss: 1.4232 - mse: 1.4232 - mae: 0.8977 - val_loss: 1.6565 - val_mse: 1.6565 - val_mae: 0.9023\n",
      "Epoch 42/100\n",
      "14/14 [==============================] - 0s 5ms/step - loss: 1.4862 - mse: 1.4862 - mae: 0.9396 - val_loss: 1.6351 - val_mse: 1.6351 - val_mae: 0.8986\n",
      "Epoch 43/100\n",
      "14/14 [==============================] - 0s 5ms/step - loss: 1.5183 - mse: 1.5183 - mae: 0.9403 - val_loss: 1.6539 - val_mse: 1.6539 - val_mae: 0.9035\n",
      "Epoch 44/100\n",
      "14/14 [==============================] - 0s 5ms/step - loss: 1.5413 - mse: 1.5413 - mae: 0.9591 - val_loss: 1.7059 - val_mse: 1.7059 - val_mae: 0.9186\n",
      "Epoch 45/100\n",
      "14/14 [==============================] - 0s 6ms/step - loss: 1.5080 - mse: 1.5080 - mae: 0.9534 - val_loss: 1.6795 - val_mse: 1.6795 - val_mae: 0.9110\n",
      "Epoch 46/100\n",
      "14/14 [==============================] - 0s 6ms/step - loss: 1.5436 - mse: 1.5436 - mae: 0.9366 - val_loss: 1.6633 - val_mse: 1.6633 - val_mae: 0.9052\n",
      "Epoch 47/100\n",
      "14/14 [==============================] - 0s 5ms/step - loss: 1.5354 - mse: 1.5354 - mae: 0.9317 - val_loss: 1.6430 - val_mse: 1.6430 - val_mae: 0.8979\n",
      "Epoch 48/100\n",
      "14/14 [==============================] - 0s 15ms/step - loss: 1.4906 - mse: 1.4906 - mae: 0.9423 - val_loss: 1.6350 - val_mse: 1.6350 - val_mae: 0.8965\n",
      "Epoch 49/100\n",
      "14/14 [==============================] - 0s 7ms/step - loss: 1.4910 - mse: 1.4910 - mae: 0.9387 - val_loss: 1.6530 - val_mse: 1.6530 - val_mae: 0.9031\n",
      "Epoch 50/100\n",
      "14/14 [==============================] - 0s 5ms/step - loss: 1.5990 - mse: 1.5990 - mae: 0.9597 - val_loss: 1.6943 - val_mse: 1.6943 - val_mae: 0.9147\n",
      "Epoch 51/100\n",
      "14/14 [==============================] - 0s 5ms/step - loss: 1.4092 - mse: 1.4092 - mae: 0.9170 - val_loss: 1.6746 - val_mse: 1.6746 - val_mae: 0.9099\n",
      "Epoch 52/100\n",
      "14/14 [==============================] - 0s 5ms/step - loss: 1.5142 - mse: 1.5142 - mae: 0.9375 - val_loss: 1.6986 - val_mse: 1.6986 - val_mae: 0.9191\n",
      "Epoch 53/100\n",
      "14/14 [==============================] - 0s 5ms/step - loss: 1.4461 - mse: 1.4461 - mae: 0.9033 - val_loss: 1.7303 - val_mse: 1.7303 - val_mae: 0.9307\n",
      "Epoch 54/100\n",
      "14/14 [==============================] - 0s 4ms/step - loss: 1.4944 - mse: 1.4944 - mae: 0.9214 - val_loss: 1.7122 - val_mse: 1.7122 - val_mae: 0.9258\n",
      "Epoch 55/100\n",
      "14/14 [==============================] - 0s 4ms/step - loss: 1.5714 - mse: 1.5714 - mae: 0.9591 - val_loss: 1.6644 - val_mse: 1.6644 - val_mae: 0.9115\n",
      "Epoch 56/100\n",
      "14/14 [==============================] - 0s 5ms/step - loss: 1.2897 - mse: 1.2897 - mae: 0.8603 - val_loss: 1.6992 - val_mse: 1.6992 - val_mae: 0.9185\n",
      "Epoch 57/100\n",
      "14/14 [==============================] - 0s 4ms/step - loss: 1.5782 - mse: 1.5782 - mae: 0.9452 - val_loss: 1.6731 - val_mse: 1.6731 - val_mae: 0.9085\n",
      "Epoch 58/100\n",
      "14/14 [==============================] - 0s 5ms/step - loss: 1.5146 - mse: 1.5146 - mae: 0.9393 - val_loss: 1.6773 - val_mse: 1.6773 - val_mae: 0.9102\n",
      "Epoch 59/100\n",
      "14/14 [==============================] - 0s 4ms/step - loss: 1.5908 - mse: 1.5908 - mae: 0.9714 - val_loss: 1.6829 - val_mse: 1.6829 - val_mae: 0.9099\n",
      "Epoch 60/100\n",
      "14/14 [==============================] - 0s 4ms/step - loss: 1.5400 - mse: 1.5400 - mae: 0.9523 - val_loss: 1.6948 - val_mse: 1.6948 - val_mae: 0.9150\n",
      "Epoch 61/100\n",
      "14/14 [==============================] - 0s 6ms/step - loss: 1.4772 - mse: 1.4772 - mae: 0.9184 - val_loss: 1.6854 - val_mse: 1.6854 - val_mae: 0.9116\n",
      "Epoch 62/100\n",
      "14/14 [==============================] - 0s 6ms/step - loss: 1.4902 - mse: 1.4902 - mae: 0.9471 - val_loss: 1.6688 - val_mse: 1.6688 - val_mae: 0.9056\n",
      "Epoch 63/100\n",
      "14/14 [==============================] - 0s 8ms/step - loss: 1.4835 - mse: 1.4835 - mae: 0.8975 - val_loss: 1.6516 - val_mse: 1.6516 - val_mae: 0.9014\n",
      "Epoch 64/100\n",
      "14/14 [==============================] - 0s 6ms/step - loss: 1.4697 - mse: 1.4697 - mae: 0.9253 - val_loss: 1.6161 - val_mse: 1.6161 - val_mae: 0.8915\n",
      "Epoch 65/100\n",
      "14/14 [==============================] - 0s 6ms/step - loss: 1.4563 - mse: 1.4563 - mae: 0.9292 - val_loss: 1.5935 - val_mse: 1.5935 - val_mae: 0.8844\n",
      "Epoch 66/100\n",
      "14/14 [==============================] - 0s 5ms/step - loss: 1.5732 - mse: 1.5732 - mae: 0.9521 - val_loss: 1.6402 - val_mse: 1.6402 - val_mae: 0.8965\n",
      "Epoch 67/100\n",
      "14/14 [==============================] - 0s 4ms/step - loss: 1.5955 - mse: 1.5955 - mae: 0.9874 - val_loss: 1.6490 - val_mse: 1.6490 - val_mae: 0.9015\n",
      "Epoch 68/100\n",
      "14/14 [==============================] - 0s 5ms/step - loss: 1.3906 - mse: 1.3906 - mae: 0.9067 - val_loss: 1.6345 - val_mse: 1.6345 - val_mae: 0.8978\n",
      "Epoch 69/100\n",
      "14/14 [==============================] - 0s 5ms/step - loss: 1.5020 - mse: 1.5020 - mae: 0.9473 - val_loss: 1.6538 - val_mse: 1.6538 - val_mae: 0.9015\n",
      "Epoch 70/100\n",
      "14/14 [==============================] - 0s 4ms/step - loss: 1.5906 - mse: 1.5906 - mae: 0.9700 - val_loss: 1.6677 - val_mse: 1.6677 - val_mae: 0.9040\n",
      "Epoch 71/100\n",
      "14/14 [==============================] - 0s 5ms/step - loss: 1.6637 - mse: 1.6637 - mae: 0.9691 - val_loss: 1.7211 - val_mse: 1.7211 - val_mae: 0.9207\n",
      "Epoch 72/100\n",
      "14/14 [==============================] - 0s 6ms/step - loss: 1.4539 - mse: 1.4539 - mae: 0.9330 - val_loss: 1.6721 - val_mse: 1.6721 - val_mae: 0.9074\n",
      "Epoch 73/100\n",
      "14/14 [==============================] - 0s 9ms/step - loss: 1.5880 - mse: 1.5880 - mae: 0.9569 - val_loss: 1.6147 - val_mse: 1.6147 - val_mae: 0.8898\n",
      "Epoch 74/100\n",
      "14/14 [==============================] - 0s 8ms/step - loss: 1.6019 - mse: 1.6019 - mae: 0.9444 - val_loss: 1.6356 - val_mse: 1.6356 - val_mae: 0.8944\n",
      "Epoch 75/100\n",
      "14/14 [==============================] - 0s 7ms/step - loss: 1.5028 - mse: 1.5028 - mae: 0.9286 - val_loss: 1.6620 - val_mse: 1.6620 - val_mae: 0.9011\n",
      "Epoch 76/100\n",
      "14/14 [==============================] - 0s 5ms/step - loss: 1.4082 - mse: 1.4082 - mae: 0.9089 - val_loss: 1.6478 - val_mse: 1.6478 - val_mae: 0.8966\n",
      "Epoch 77/100\n",
      "14/14 [==============================] - 0s 5ms/step - loss: 1.4245 - mse: 1.4245 - mae: 0.9255 - val_loss: 1.6520 - val_mse: 1.6520 - val_mae: 0.9033\n",
      "Epoch 78/100\n",
      "14/14 [==============================] - 0s 5ms/step - loss: 1.5344 - mse: 1.5344 - mae: 0.9583 - val_loss: 1.6968 - val_mse: 1.6968 - val_mae: 0.9162\n",
      "Epoch 79/100\n",
      "14/14 [==============================] - 0s 5ms/step - loss: 1.5161 - mse: 1.5161 - mae: 0.9403 - val_loss: 1.6969 - val_mse: 1.6969 - val_mae: 0.9183\n",
      "Epoch 80/100\n",
      "14/14 [==============================] - 0s 7ms/step - loss: 1.4910 - mse: 1.4910 - mae: 0.9244 - val_loss: 1.6962 - val_mse: 1.6962 - val_mae: 0.9176\n",
      "Epoch 81/100\n",
      "14/14 [==============================] - 0s 4ms/step - loss: 1.5463 - mse: 1.5463 - mae: 0.9517 - val_loss: 1.6762 - val_mse: 1.6762 - val_mae: 0.9093\n",
      "Epoch 82/100\n",
      "14/14 [==============================] - 0s 5ms/step - loss: 1.4449 - mse: 1.4449 - mae: 0.9204 - val_loss: 1.6541 - val_mse: 1.6541 - val_mae: 0.9036\n",
      "Epoch 83/100\n",
      "14/14 [==============================] - 0s 4ms/step - loss: 1.5210 - mse: 1.5210 - mae: 0.9413 - val_loss: 1.6234 - val_mse: 1.6234 - val_mae: 0.8955\n",
      "Epoch 84/100\n",
      "14/14 [==============================] - 0s 5ms/step - loss: 1.5770 - mse: 1.5770 - mae: 0.9525 - val_loss: 1.6455 - val_mse: 1.6455 - val_mae: 0.9017\n",
      "Epoch 85/100\n",
      "14/14 [==============================] - 0s 5ms/step - loss: 1.6364 - mse: 1.6364 - mae: 0.9900 - val_loss: 1.6983 - val_mse: 1.6983 - val_mae: 0.9177\n",
      "Epoch 86/100\n",
      "14/14 [==============================] - 0s 5ms/step - loss: 1.4307 - mse: 1.4307 - mae: 0.9278 - val_loss: 1.7155 - val_mse: 1.7155 - val_mae: 0.9229\n",
      "Epoch 87/100\n",
      "14/14 [==============================] - 0s 5ms/step - loss: 1.3673 - mse: 1.3673 - mae: 0.9073 - val_loss: 1.6944 - val_mse: 1.6944 - val_mae: 0.9185\n",
      "Epoch 88/100\n",
      "14/14 [==============================] - 0s 5ms/step - loss: 1.5093 - mse: 1.5093 - mae: 0.9306 - val_loss: 1.6581 - val_mse: 1.6581 - val_mae: 0.9083\n",
      "Epoch 89/100\n",
      "14/14 [==============================] - 0s 5ms/step - loss: 1.3659 - mse: 1.3659 - mae: 0.8762 - val_loss: 1.6628 - val_mse: 1.6628 - val_mae: 0.9099\n",
      "Epoch 90/100\n",
      "14/14 [==============================] - 0s 5ms/step - loss: 1.5636 - mse: 1.5636 - mae: 0.9840 - val_loss: 1.6354 - val_mse: 1.6354 - val_mae: 0.9014\n",
      "Epoch 91/100\n",
      "14/14 [==============================] - 0s 5ms/step - loss: 1.4238 - mse: 1.4238 - mae: 0.9140 - val_loss: 1.6562 - val_mse: 1.6562 - val_mae: 0.9068\n",
      "Epoch 92/100\n",
      "14/14 [==============================] - 0s 5ms/step - loss: 1.4841 - mse: 1.4841 - mae: 0.9381 - val_loss: 1.6920 - val_mse: 1.6920 - val_mae: 0.9163\n",
      "Epoch 93/100\n",
      "14/14 [==============================] - 0s 6ms/step - loss: 1.4201 - mse: 1.4201 - mae: 0.9148 - val_loss: 1.6565 - val_mse: 1.6565 - val_mae: 0.9087\n",
      "Epoch 94/100\n",
      "14/14 [==============================] - 0s 8ms/step - loss: 1.4233 - mse: 1.4233 - mae: 0.9100 - val_loss: 1.6105 - val_mse: 1.6105 - val_mae: 0.8946\n",
      "Epoch 95/100\n",
      "14/14 [==============================] - 0s 6ms/step - loss: 1.5919 - mse: 1.5919 - mae: 0.9574 - val_loss: 1.6315 - val_mse: 1.6315 - val_mae: 0.8996\n",
      "Epoch 96/100\n",
      "14/14 [==============================] - 0s 8ms/step - loss: 1.5664 - mse: 1.5664 - mae: 0.9810 - val_loss: 1.6838 - val_mse: 1.6838 - val_mae: 0.9118\n",
      "Epoch 97/100\n",
      "14/14 [==============================] - 0s 7ms/step - loss: 1.4626 - mse: 1.4626 - mae: 0.9160 - val_loss: 1.7129 - val_mse: 1.7129 - val_mae: 0.9198\n",
      "Epoch 98/100\n",
      "14/14 [==============================] - 0s 5ms/step - loss: 1.4787 - mse: 1.4787 - mae: 0.9252 - val_loss: 1.7029 - val_mse: 1.7029 - val_mae: 0.9156\n",
      "Epoch 99/100\n",
      "14/14 [==============================] - 0s 5ms/step - loss: 1.4677 - mse: 1.4677 - mae: 0.9184 - val_loss: 1.6822 - val_mse: 1.6822 - val_mae: 0.9109\n",
      "Epoch 100/100\n",
      "14/14 [==============================] - 0s 5ms/step - loss: 1.5726 - mse: 1.5726 - mae: 0.9509 - val_loss: 1.6576 - val_mse: 1.6576 - val_mae: 0.9040\n"
     ]
    },
    {
     "data": {
      "text/plain": [
       "<keras.callbacks.History at 0x2a2810d2448>"
      ]
     },
     "execution_count": 39,
     "metadata": {},
     "output_type": "execute_result"
    }
   ],
   "source": [
    "NUM_OF_EPOCHS = 100\n",
    "model.fit(x_train, y_train,validation_data=(x_test,y_test), epochs=NUM_OF_EPOCHS)"
   ]
  },
  {
   "cell_type": "code",
   "execution_count": 40,
   "metadata": {},
   "outputs": [
    {
     "name": "stdout",
     "output_type": "stream",
     "text": [
      "4/4 - 0s - loss: 1.6576 - mse: 1.6576 - mae: 0.9040 - 41ms/epoch - 10ms/step\n"
     ]
    },
    {
     "data": {
      "text/plain": [
       "[1.657597303390503, 1.657597303390503, 0.9040090441703796]"
      ]
     },
     "execution_count": 40,
     "metadata": {},
     "output_type": "execute_result"
    }
   ],
   "source": [
    "model.evaluate(x_test,  y_test, verbose=2)"
   ]
  },
  {
   "cell_type": "code",
   "execution_count": 65,
   "metadata": {},
   "outputs": [
    {
     "name": "stdout",
     "output_type": "stream",
     "text": [
      "4/4 [==============================] - 0s 3ms/step - loss: 1.6576 - mse: 1.6576 - mae: 0.9040\n",
      "Test MSE: 1.657597303390503, Test MAE: 0.9040090441703796\n"
     ]
    }
   ],
   "source": [
    "loss, mse, mae = model.evaluate(x_test, y_test)\n",
    "print(f\"Test MSE: {mse}, Test MAE: {mae}\")"
   ]
  },
  {
   "cell_type": "code",
   "execution_count": 67,
   "metadata": {},
   "outputs": [
    {
     "name": "stdout",
     "output_type": "stream",
     "text": [
      "14/14 [==============================] - 0s 3ms/step - loss: 1.3148 - mse: 1.3148 - mae: 0.8474\n",
      "Train MSE: 1.31478750705719, Train MAE: 0.8474133014678955\n"
     ]
    }
   ],
   "source": [
    "loss, mse, mae = model.evaluate(x_train, y_train)\n",
    "print(f\"Train MSE: {mse}, Train MAE: {mae}\")"
   ]
  },
  {
   "cell_type": "code",
   "execution_count": 41,
   "metadata": {},
   "outputs": [],
   "source": [
    "y_pred = model.predict(x_test)"
   ]
  },
  {
   "cell_type": "code",
   "execution_count": 42,
   "metadata": {},
   "outputs": [
    {
     "data": {
      "text/plain": [
       "((110, 8), (110,), (110,))"
      ]
     },
     "execution_count": 42,
     "metadata": {},
     "output_type": "execute_result"
    }
   ],
   "source": [
    "x_test.shape, y_pred.flatten().shape, y_test.shape"
   ]
  },
  {
   "cell_type": "code",
   "execution_count": 43,
   "metadata": {},
   "outputs": [
    {
     "data": {
      "text/html": [
       "<div>\n",
       "<style scoped>\n",
       "    .dataframe tbody tr th:only-of-type {\n",
       "        vertical-align: middle;\n",
       "    }\n",
       "\n",
       "    .dataframe tbody tr th {\n",
       "        vertical-align: top;\n",
       "    }\n",
       "\n",
       "    .dataframe thead th {\n",
       "        text-align: right;\n",
       "    }\n",
       "</style>\n",
       "<table border=\"1\" class=\"dataframe\">\n",
       "  <thead>\n",
       "    <tr style=\"text-align: right;\">\n",
       "      <th></th>\n",
       "      <th>Input</th>\n",
       "      <th>Actual</th>\n",
       "      <th>Predicted</th>\n",
       "    </tr>\n",
       "  </thead>\n",
       "  <tbody>\n",
       "    <tr>\n",
       "      <th>0</th>\n",
       "      <td>[180.08, 310.81, 5.0, 0.143, 4.805, 1.597, 2.0...</td>\n",
       "      <td>3.795</td>\n",
       "      <td>3.600834</td>\n",
       "    </tr>\n",
       "    <tr>\n",
       "      <th>1</th>\n",
       "      <td>[63.22, 80.144, 0.0, 1.936, 3.852, 1.151, 0.0,...</td>\n",
       "      <td>8.028</td>\n",
       "      <td>4.755800</td>\n",
       "    </tr>\n",
       "    <tr>\n",
       "      <th>2</th>\n",
       "      <td>[26.02, 32.897, 2.0, 2.729, 1.975, 0.462, 1.0,...</td>\n",
       "      <td>5.437</td>\n",
       "      <td>4.799356</td>\n",
       "    </tr>\n",
       "    <tr>\n",
       "      <th>3</th>\n",
       "      <td>[86.71, 27.185, 0.0, 2.06, 2.394, 1.088, 0.0, ...</td>\n",
       "      <td>6.579</td>\n",
       "      <td>6.420289</td>\n",
       "    </tr>\n",
       "    <tr>\n",
       "      <th>4</th>\n",
       "      <td>[0.0, 0.0, 0.0, 3.516, 1.678, 1.667, 0.0, 0.0]</td>\n",
       "      <td>4.340</td>\n",
       "      <td>3.875564</td>\n",
       "    </tr>\n",
       "  </tbody>\n",
       "</table>\n",
       "</div>"
      ],
      "text/plain": [
       "                                               Input  Actual  Predicted\n",
       "0  [180.08, 310.81, 5.0, 0.143, 4.805, 1.597, 2.0...   3.795   3.600834\n",
       "1  [63.22, 80.144, 0.0, 1.936, 3.852, 1.151, 0.0,...   8.028   4.755800\n",
       "2  [26.02, 32.897, 2.0, 2.729, 1.975, 0.462, 1.0,...   5.437   4.799356\n",
       "3  [86.71, 27.185, 0.0, 2.06, 2.394, 1.088, 0.0, ...   6.579   6.420289\n",
       "4     [0.0, 0.0, 0.0, 3.516, 1.678, 1.667, 0.0, 0.0]   4.340   3.875564"
      ]
     },
     "execution_count": 43,
     "metadata": {},
     "output_type": "execute_result"
    }
   ],
   "source": [
    "summary_df = pd.DataFrame({'Input': x_test.to_numpy().tolist(), 'Actual': y_test.to_numpy(), 'Predicted': y_pred.flatten()})\n",
    "summary_df.head()"
   ]
  },
  {
   "cell_type": "code",
   "execution_count": 44,
   "metadata": {},
   "outputs": [
    {
     "name": "stdout",
     "output_type": "stream",
     "text": [
      "<generator object representative_dataset at 0x000002A28116D348>\n"
     ]
    }
   ],
   "source": [
    "def representative_dataset():\n",
    "    for _ in range(100):\n",
    "      data =  x_train\n",
    "      yield [data.astype(np.float32)]\n",
    "\n",
    "print(representative_dataset())"
   ]
  },
  {
   "cell_type": "code",
   "execution_count": 45,
   "metadata": {},
   "outputs": [
    {
     "name": "stdout",
     "output_type": "stream",
     "text": [
      "INFO:tensorflow:Assets written to: saved_QSAR_model_keras_dir\\assets\n"
     ]
    }
   ],
   "source": [
    "tf.saved_model.save(model, \"saved_QSAR_model_keras_dir\")"
   ]
  },
  {
   "cell_type": "code",
   "execution_count": 46,
   "metadata": {},
   "outputs": [],
   "source": [
    "import tensorflow as tf\n",
    "\n",
    "converter = tf.lite.TFLiteConverter.from_saved_model(\"saved_QSAR_model_keras_dir\")\n",
    "converter.optimizations = [tf.lite.Optimize.DEFAULT]\n",
    "converter.representative_dataset = representative_dataset\n",
    "tflite_model = converter.convert()"
   ]
  },
  {
   "cell_type": "code",
   "execution_count": 47,
   "metadata": {},
   "outputs": [],
   "source": [
    "with open('QSARClassifyModel_new.tflite', 'wb') as f:\n",
    "  f.write(tflite_model)"
   ]
  },
  {
   "cell_type": "code",
   "execution_count": 48,
   "metadata": {},
   "outputs": [],
   "source": [
    "interpreter = tf.lite.Interpreter(model_path=\"QSARClassifyModel_new.tflite\")\n",
    "interpreter.allocate_tensors()"
   ]
  },
  {
   "cell_type": "code",
   "execution_count": 49,
   "metadata": {},
   "outputs": [
    {
     "name": "stdout",
     "output_type": "stream",
     "text": [
      "input_details:\n",
      " [{'name': 'serving_default_input_2:0', 'index': 0, 'shape': array([1, 8]), 'shape_signature': array([-1,  8]), 'dtype': <class 'numpy.float32'>, 'quantization': (0.0, 0), 'quantization_parameters': {'scales': array([], dtype=float32), 'zero_points': array([], dtype=int32), 'quantized_dimension': 0}, 'sparsity_parameters': {}}]\n",
      "output_details:\n",
      " [{'name': 'StatefulPartitionedCall:0', 'index': 14, 'shape': array([1, 1]), 'shape_signature': array([-1,  1]), 'dtype': <class 'numpy.float32'>, 'quantization': (0.0, 0), 'quantization_parameters': {'scales': array([], dtype=float32), 'zero_points': array([], dtype=int32), 'quantized_dimension': 0}, 'sparsity_parameters': {}}]\n"
     ]
    }
   ],
   "source": [
    "input_details = interpreter.get_input_details()\n",
    "output_details = interpreter.get_output_details()\n",
    "print('input_details:\\n', input_details)\n",
    "print('output_details:\\n', output_details)"
   ]
  },
  {
   "cell_type": "code",
   "execution_count": 50,
   "metadata": {},
   "outputs": [],
   "source": [
    "x_test_np = x_test.to_numpy()\n",
    "y_test_np = y_test.to_numpy()"
   ]
  },
  {
   "cell_type": "code",
   "execution_count": 51,
   "metadata": {},
   "outputs": [
    {
     "name": "stdout",
     "output_type": "stream",
     "text": [
      "[1 8]\n",
      "[[3.9490638]]\n",
      "3.795\n"
     ]
    }
   ],
   "source": [
    "# Test the model on random input data.\n",
    "input_shape = input_details[0]['shape']\n",
    "print(input_shape)\n",
    "input_data = [x_test_np[0]]\n",
    "#print(input_data)\n",
    "input_data = np.array(input_data, dtype=np.float32)\n",
    "interpreter.set_tensor(input_details[0]['index'], input_data)\n",
    "\n",
    "interpreter.invoke()\n",
    "\n",
    "# The function `get_tensor()` returns a copy of the tensor data.\n",
    "# Use `tensor()` in order to get a pointer to the tensor.\n",
    "output_data = interpreter.get_tensor(output_details[0]['index'])\n",
    "print(output_data)\n",
    "print(y_test_np[0])"
   ]
  },
  {
   "cell_type": "code",
   "execution_count": 53,
   "metadata": {},
   "outputs": [],
   "source": [
    "# Function to convert some hex values into an array for C programming\n",
    "import time, sys\n",
    "\n",
    "# Function to convert some hex values into an array for C programming\n",
    "def hex_to_c_array(hex_data, var_name):\n",
    "    c_str = \"\"\n",
    "\n",
    "    # Create header guard\n",
    "    c_str += '#ifndef ' + var_name.upper() + '_H\\n'\n",
    "    c_str += \"#define \" + var_name.upper() + '_H\\n\\n'\n",
    "\n",
    "    c_str += \"/*\\n Author: Mouli Sankaran \\n\"\n",
    "    c_str += \" CAUTION: This is an auto generated file.\\n DO NOT EDIT OR MAKE ANY CHANGES TO IT.\\n\"\n",
    "\n",
    "# Time stamping of this model data in the generated file\n",
    "    localtime = time.asctime( time.localtime(time.time()) )\n",
    "    c_str += \" This model data was generated on \" + localtime+ '\\n\\n'\n",
    "    print(\"This model data was generated on:\", localtime)\n",
    "\n",
    "# Add information about the verisons of tools and packages used in generating this header file\n",
    "    c_str += \" Tools used:\\n Python:\" + str(sys.version) + \"\\n Numpy:\" \\\n",
    "            + str(np.version.version) + \"\\n TensorFlow:\" + str(sys.version) \\\n",
    "            + \"\\n Keras: \"+ str(tf.keras.__version__) + \"\\n\\n\"\n",
    "    print(\"Tools used: Python:\", sys.version, \"\\n Numpy:\", np.version.version, \\\n",
    "          \"\\n TensorFlow:\", sys.version, \"\\n Keras: \", tf.keras.__version__, \"\\n\\n\")\n",
    "\n",
    "# Training details of the model\n",
    "    c_str += ' Model details are:\\n'\n",
    "    c_str += ' NUM_OF_EPOCHS  = ' + str(NUM_OF_EPOCHS) + '\\n*/\\n'\n",
    "\n",
    "# Generate 'C' constants for the no. of nodes in each layer\n",
    "    c_str +=   'const int ' + 'DENSE1_SIZE' + ' = ' + str(DENSE1_SIZE) + ';\\n'\n",
    "\n",
    "    # Add array length at the top of the file\n",
    "    c_str += '\\nalignas(8) const unsigned int ' + var_name + '_len = '\\\n",
    "            + str(len(hex_data)) + ';\\n'\n",
    "\n",
    "    # Declare C variable\n",
    "    c_str += 'const unsigned char ' + var_name + '[] = {'\n",
    "    hex_array = []\n",
    "    for i, val in enumerate(hex_data):\n",
    "        # Construct string from hex\n",
    "        hex_str = format(val, '#04x')\n",
    "\n",
    "        # Add formating so each line stays within 80 characters\n",
    "        if (i + 1) < len(hex_data):\n",
    "          hex_str += ','\n",
    "        if (i + 1) % 12 == 0:\n",
    "          hex_str += '\\n'\n",
    "        hex_array.append(hex_str)\n",
    "\n",
    "    # Add closing brace\n",
    "    c_str += '\\n' + format(''.join(hex_array)) + '\\n};\\n\\n'\n",
    "\n",
    "    # Close out header guard\n",
    "    c_str += '#endif //' + var_name.upper() + '_H'\n",
    "\n",
    "    return c_str"
   ]
  },
  {
   "cell_type": "code",
   "execution_count": 54,
   "metadata": {},
   "outputs": [
    {
     "name": "stdout",
     "output_type": "stream",
     "text": [
      "This model data was generated on: Sun Nov 17 21:06:27 2024\n",
      "Tools used: Python: 3.7.16 (default, Jan 17 2023, 16:06:28) [MSC v.1916 64 bit (AMD64)] \n",
      " Numpy: 1.19.5 \n",
      " TensorFlow: 3.7.16 (default, Jan 17 2023, 16:06:28) [MSC v.1916 64 bit (AMD64)] \n",
      " Keras:  2.7.0 \n",
      "\n",
      "\n"
     ]
    }
   ],
   "source": [
    "with open(\"QSAR_model_esp32_new\" + '.h', 'w') as file:\n",
    "  file.write(hex_to_c_array(tflite_model, \"QSAR_model_esp32_new\"))"
   ]
  },
  {
   "cell_type": "code",
   "execution_count": 55,
   "metadata": {},
   "outputs": [],
   "source": [
    "size = x_test_np.shape[1]\n",
    "x_train_np = x_train.to_numpy()"
   ]
  },
  {
   "cell_type": "code",
   "execution_count": 56,
   "metadata": {},
   "outputs": [
    {
     "data": {
      "text/plain": [
       "8"
      ]
     },
     "execution_count": 56,
     "metadata": {},
     "output_type": "execute_result"
    }
   ],
   "source": [
    "size"
   ]
  },
  {
   "cell_type": "code",
   "execution_count": 57,
   "metadata": {},
   "outputs": [
    {
     "data": {
      "text/plain": [
       "array([[  3.24 ,   3.124,   0.   , ...,   1.31 ,   1.   ,   0.   ],\n",
       "       [  0.   ,   0.   ,   0.   , ...,   0.917,   0.   ,   0.   ],\n",
       "       [129.95 ,  30.53 ,   0.   , ...,   1.444,   0.   ,   0.   ],\n",
       "       ...,\n",
       "       [ 91.64 , 101.494,   0.   , ...,   0.884,   2.   ,   0.   ],\n",
       "       [ 56.15 ,  36.022,   2.   , ...,   1.001,   2.   ,   0.   ],\n",
       "       [  0.   ,   0.   ,   0.   , ...,   0.57 ,   0.   ,   0.   ]])"
      ]
     },
     "execution_count": 57,
     "metadata": {},
     "output_type": "execute_result"
    }
   ],
   "source": [
    "x_train_np"
   ]
  },
  {
   "cell_type": "code",
   "execution_count": 58,
   "metadata": {},
   "outputs": [
    {
     "data": {
      "text/plain": [
       "(110, 8)"
      ]
     },
     "execution_count": 58,
     "metadata": {},
     "output_type": "execute_result"
    }
   ],
   "source": [
    "x_test_np.shape"
   ]
  },
  {
   "cell_type": "code",
   "execution_count": 59,
   "metadata": {},
   "outputs": [
    {
     "data": {
      "text/plain": [
       "array([1.8008e+02, 3.1081e+02, 5.0000e+00, 1.4300e-01, 4.8050e+00,\n",
       "       1.5970e+00, 2.0000e+00, 1.0000e+00])"
      ]
     },
     "execution_count": 59,
     "metadata": {},
     "output_type": "execute_result"
    }
   ],
   "source": [
    "x_test_np[0]"
   ]
  },
  {
   "cell_type": "code",
   "execution_count": 60,
   "metadata": {},
   "outputs": [],
   "source": [
    "def generate_array_string_2d(data, name):\n",
    "    string = \"\"\n",
    "    string += f'float {name}[{data.shape[0]}][{data.shape[1]}] = \\n' +\"{\"\n",
    "    for i in range(x_test_np.shape[0]):\n",
    "        string += \"{\"\n",
    "        for j in range(x_test_np.shape[1]-1):\n",
    "            string += str(x_test_np[i][j]) + \", \"\n",
    "        string += str(x_test_np[i][x_test_np.shape[1]-1])\n",
    "        string += \"},\\n\"\n",
    "    string += \"};\"\n",
    "    return string\n",
    "\n",
    "def generate_array_string_1d(data, name):\n",
    "    string = \"\"\n",
    "    string += f'float {name}[{data.shape[0]}] = '\n",
    "    string += \"{\"\n",
    "    for i in range(data.shape[0]-1):\n",
    "        string += str(data[i]) + \", \"\n",
    "    string += str(data[data.shape[0]-1])\n",
    "    string += \"};\"\n",
    "    return string"
   ]
  },
  {
   "cell_type": "code",
   "execution_count": 61,
   "metadata": {},
   "outputs": [
    {
     "data": {
      "text/plain": [
       "'float y_test0[110] = {3.795, 8.028, 5.437, 6.579, 4.34, 5.132, 3.918, 4.186, 3.28, 4.168, 3.481, 5.632, 3.603, 5.513, 4.852, 3.842, 3.78, 3.08, 0.59, 2.659, 6.19, 9.133, 3.533, 5.548, 3.669, 5.96, 5.3, 5.371, 6.176, 3.432, 6.72, 5.433, 6.064, 4.112, 4.301, 6.447, 2.09, 3.088, 4.927, 3.85, 6.389, 5.512, 6.508, 8.067, 4.886, 3.979, 8.112, 4.121, 2.815, 4.385, 3.619, 3.47, 4.179, 6.027, 4.025, 4.317, 5.406, 4.022, 4.31, 4.263, 2.072, 3.618, 6.964, 2.959, 4.579, 5.009, 1.53, 4.933, 4.002, 3.825, 3.485, 5.6, 3.76, 2.649, 7.858, 4.864, 3.976, 4.216, 4.79, 4.33, 3.331, 4.14, 6.52, 6.074, 4.61, 5.37, 3.917, 5.44, 5.373, 2.352, 5.46, 2.958, 3.884, 4.14, 2.188, 3.103, 3.7, 6.11, 4.711, 4.257, 6.0, 3.674, 3.254, 0.989, 6.723, 3.34, 6.442, 10.047, 6.042, 6.173};'"
      ]
     },
     "execution_count": 61,
     "metadata": {},
     "output_type": "execute_result"
    }
   ],
   "source": [
    "generate_array_string_1d(y_test_np, 'y_test0')"
   ]
  },
  {
   "cell_type": "code",
   "execution_count": 62,
   "metadata": {},
   "outputs": [
    {
     "data": {
      "text/plain": [
       "'float x_test0[110][8] = \\n{{180.08, 310.81, 5.0, 0.143, 4.805, 1.597, 2.0, 1.0},\\n{63.22, 80.144, 0.0, 1.936, 3.852, 1.151, 0.0, 0.0},\\n{26.02, 32.897, 2.0, 2.729, 1.975, 0.462, 1.0, 0.0},\\n{86.71, 27.185, 0.0, 2.06, 2.394, 1.088, 0.0, 0.0},\\n{0.0, 0.0, 0.0, 3.516, 1.678, 1.667, 0.0, 0.0},\\n{75.74, 93.694, 3.0, 2.195, 4.365, 1.086, 2.0, 0.0},\\n{0.0, 0.0, 0.0, 2.876, 1.857, 0.699, 0.0, 0.0},\\n{0.0, 0.0, 0.0, 2.957, 1.509, 0.533, 0.0, 0.0},\\n{0.0, 0.0, 0.0, 1.672, 1.225, 0.562, 0.0, 0.0},\\n{86.34, 105.331, 1.0, 1.616, 2.97, 0.983, 5.0, 0.0},\\n{12.89, 16.786, 0.0, 1.533, 2.056, 1.203, 1.0, 0.0},\\n{20.23, 42.683, 1.0, 3.046, 2.027, 0.602, 0.0, 0.0},\\n{52.6, 72.29, 0.0, 2.577, 2.707, 1.313, 0.0, 2.0},\\n{12.53, 11.0, 0.0, 4.452, 2.716, 0.49, 0.0, 0.0},\\n{20.23, 42.683, 1.0, 2.461, 1.975, 0.737, 0.0, 0.0},\\n{0.0, 0.0, 0.0, 2.604, 1.43, 0.505, 0.0, 0.0},\\n{23.79, 31.059, 0.0, 0.094, 1.334, 1.115, 1.0, 1.0},\\n{37.3, 67.828, 1.0, 2.06, 2.06, 1.529, 0.0, 1.0},\\n{29.46, 53.683, 1.0, -0.081, 1.577, 1.952, 0.0, 0.0},\\n{0.0, 0.0, 0.0, 1.364, 1.155, 0.576, 0.0, 0.0},\\n{0.0, 0.0, 0.0, 4.588, 2.744, 0.807, 0.0, 0.0},\\n{59.32, 93.164, 0.0, 4.279, 3.962, 0.907, 1.0, 2.0},\\n{0.0, 0.0, 0.0, 2.851, 1.989, 0.938, 0.0, 0.0},\\n{0.0, 0.0, 0.0, 3.562, 2.281, 1.15, 0.0, 0.0},\\n{77.76, 153.195, 3.0, 0.559, 2.137, 0.767, 0.0, 0.0},\\n{3.24, 3.124, 0.0, 9.148, 5.497, 1.559, 1.0, 0.0},\\n{60.98, 61.404, 0.0, 3.429, 2.749, 1.08, 0.0, 0.0},\\n{26.02, 32.897, 2.0, 1.506, 1.857, 0.815, 1.0, 0.0},\\n{29.46, 53.683, 1.0, 3.028, 2.225, 0.548, 0.0, 0.0},\\n{9.23, 11.0, 0.0, 1.859, 1.989, 1.164, 0.0, 0.0},\\n{0.0, 0.0, 0.0, 3.558, 1.978, 1.0, 0.0, 0.0},\\n{9.23, 11.0, 0.0, 3.395, 2.692, 0.941, 0.0, 0.0},\\n{215.34, 327.629, 3.0, 0.189, 4.677, 1.333, 0.0, 4.0},\\n{92.14, 107.097, 1.0, 4.275, 4.174, 1.174, 1.0, 1.0},\\n{40.46, 85.367, 2.0, 3.306, 2.832, 0.917, 0.0, 0.0},\\n{86.52, 117.437, 2.0, 2.031, 2.679, 1.198, 6.0, 1.0},\\n{26.3, 36.145, 0.0, 0.586, 1.577, 1.881, 0.0, 1.0},\\n{347.32, 571.952, 18.0, -6.446, 4.624, 1.39, 5.0, 0.0},\\n{0.0, 0.0, 0.0, 3.291, 1.549, 2.0, 0.0, 0.0},\\n{165.15, 185.897, 0.0, 0.575, 2.608, 1.809, 3.0, 0.0},\\n{103.56, 133.775, 0.0, 3.168, 4.055, 1.153, 3.0, 2.0},\\n{54.57, 41.028, 0.0, 4.789, 3.58, 1.505, 0.0, 0.0},\\n{12.53, 11.0, 0.0, 4.452, 2.862, 0.543, 0.0, 0.0},\\n{35.53, 47.145, 0.0, 4.579, 3.875, 0.927, 0.0, 1.0},\\n{26.3, 36.145, 0.0, 2.754, 2.454, 1.421, 0.0, 1.0},\\n{70.14, 50.908, 3.0, -0.792, 1.401, 0.647, 2.0, 0.0},\\n{26.3, 81.025, 0.0, 5.4, 3.936, 0.991, 0.0, 1.0},\\n{49.33, 85.839, 2.0, 3.988, 3.047, 0.694, 1.0, 1.0},\\n{17.07, 25.145, 0.0, 0.202, 1.334, 1.66, 0.0, 0.0},\\n{3.24, 3.124, 0.0, 2.193, 2.048, 1.241, 1.0, 0.0},\\n{132.86, 33.571, 0.0, 2.892, 3.487, 0.572, 2.0, 0.0},\\n{47.56, 65.155, 1.0, 1.191, 2.899, 1.265, 1.0, 0.0},\\n{26.02, 32.897, 2.0, 2.193, 2.031, 0.992, 1.0, 0.0},\\n{28.24, 0.0, 0.0, 4.76, 2.995, 0.65, 0.0, 0.0},\\n{28.24, 0.0, 0.0, 3.169, 2.238, 0.711, 0.0, 0.0},\\n{0.0, 0.0, 0.0, 3.562, 2.119, 1.15, 0.0, 0.0},\\n{0.0, 0.0, 0.0, 4.332, 2.7, 0.758, 0.0, 0.0},\\n{87.28, 110.688, 1.0, 2.843, 3.244, 0.745, 3.0, 1.0},\\n{45.82, 50.747, 0.0, 2.509, 2.119, 0.617, 1.0, 0.0},\\n{52.04, 65.794, 4.0, 0.893, 1.918, 0.732, 2.0, 0.0},\\n{90.37, 131.635, 3.0, 0.332, 2.706, 1.313, 3.0, 1.0},\\n{12.89, 16.786, 0.0, 2.66, 2.408, 0.976, 1.0, 0.0},\\n{75.99, 73.774, 1.0, 0.057, 2.093, 1.123, 2.0, 1.0},\\n{23.47, 45.808, 1.0, -0.081, 1.577, 2.001, 1.0, 0.0},\\n{43.24, 59.409, 0.0, 4.396, 3.542, 0.91, 3.0, 0.0},\\n{0.0, 0.0, 0.0, 3.945, 2.324, 0.678, 0.0, 0.0},\\n{38.69, 64.683, 1.0, -0.129, 2.15, 1.971, 0.0, 0.0},\\n{0.0, 0.0, 0.0, 3.21, 1.924, 0.788, 0.0, 0.0},\\n{0.0, 0.0, 0.0, 2.459, 1.475, 1.5, 0.0, 0.0},\\n{56.15, 36.022, 2.0, -0.273, 1.559, 0.876, 2.0, 0.0},\\n{0.0, 0.0, 0.0, 2.081, 1.401, 0.501, 0.0, 0.0},\\n{0.0, 0.0, 0.0, 4.634, 2.018, 0.461, 0.0, 0.0},\\n{20.23, 42.683, 1.0, 1.859, 1.918, 0.949, 0.0, 0.0},\\n{43.09, 58.042, 2.0, -0.38, 1.401, 1.151, 1.0, 1.0},\\n{133.44, 75.193, 0.0, 0.906, 3.034, 0.941, 3.0, 1.0},\\n{20.23, 42.683, 1.0, 3.314, 2.031, 0.409, 0.0, 0.0},\\n{17.07, 25.145, 0.0, 1.769, 1.989, 0.927, 0.0, 0.0},\\n{49.33, 85.839, 2.0, 1.06, 2.272, 1.007, 1.0, 1.0},\\n{111.87, 144.177, 1.0, 1.748, 2.377, 0.839, 2.0, 0.0},\\n{0.0, 0.0, 0.0, 2.638, 1.401, 0.632, 0.0, 0.0},\\n{62.73, 86.378, 2.0, 2.273, 2.478, 1.254, 5.0, 0.0},\\n{103.35, 161.259, 2.0, 2.401, 3.053, 0.798, 1.0, 0.0},\\n{47.56, 65.155, 1.0, 1.459, 2.72, 1.265, 1.0, 0.0},\\n{50.24, 26.663, 0.0, 3.247, 2.789, 1.206, 1.0, 1.0},\\n{20.23, 42.683, 1.0, 2.637, 2.344, 0.758, 0.0, 0.0},\\n{40.46, 85.367, 2.0, 3.956, 3.123, 0.959, 0.0, 0.0},\\n{67.79, 107.839, 2.0, 2.347, 3.243, 1.4, 1.0, 1.0},\\n{132.42, 196.332, 2.0, 4.478, 4.984, 1.087, 4.0, 0.0},\\n{0.0, 0.0, 0.0, 3.267, 2.119, 1.25, 0.0, 0.0},\\n{12.03, 18.011, 1.0, 1.587, 1.654, 1.732, 1.0, 0.0},\\n{12.03, 18.011, 1.0, 2.193, 2.134, 1.117, 1.0, 0.0},\\n{12.03, 18.011, 1.0, -0.172, 1.155, 2.177, 1.0, 0.0},\\n{182.83, 315.561, 5.0, 1.662, 5.831, 1.351, 0.0, 1.0},\\n{45.82, 50.747, 0.0, 2.241, 2.09, 0.942, 1.0, 0.0},\\n{47.36, 21.135, 1.0, 0.18, 1.627, 1.051, 2.0, 0.0},\\n{155.68, 277.562, 4.0, -1.358, 3.033, 1.552, 2.0, 4.0},\\n{9.23, 11.0, 0.0, 2.274, 2.15, 1.754, 0.0, 0.0},\\n{20.23, 42.683, 1.0, 3.617, 2.074, 0.34, 0.0, 0.0},\\n{42.52, 44.313, 0.0, 4.746, 2.905, 0.916, 0.0, 0.0},\\n{92.35, 174.455, 1.0, 3.84, 3.373, 0.802, 1.0, 1.0},\\n{111.87, 144.177, 1.0, 2.702, 2.626, 1.047, 2.0, 0.0},\\n{75.01, 128.306, 1.0, 1.146, 3.505, 1.232, 3.0, 1.0},\\n{0.0, 0.0, 0.0, 1.817, 1.225, 0.502, 0.0, 0.0},\\n{20.23, 42.683, 1.0, -0.814, 1.0, 2.353, 0.0, 0.0},\\n{9.23, 11.0, 0.0, 5.453, 2.887, 0.495, 0.0, 0.0},\\n{49.57, 64.63, 0.0, -0.259, 1.989, 1.103, 3.0, 1.0},\\n{110.96, 13.843, 0.0, 3.089, 3.015, 0.889, 0.0, 0.0},\\n{59.32, 78.204, 0.0, 4.115, 3.934, 0.76, 1.0, 2.0},\\n{54.57, 41.028, 0.0, 3.742, 3.136, 1.773, 0.0, 0.0},\\n{0.0, 0.0, 0.0, 4.76, 2.859, 0.7, 0.0, 0.0},\\n};'"
      ]
     },
     "execution_count": 62,
     "metadata": {},
     "output_type": "execute_result"
    }
   ],
   "source": [
    "generate_array_string_2d(x_test_np, 'x_test0')"
   ]
  },
  {
   "cell_type": "code",
   "execution_count": 64,
   "metadata": {},
   "outputs": [],
   "source": [
    "# Write TFLite model to a C source (or header) file\n",
    "with open(\"QSAR_x_test0_data_new\" + '.h', 'w') as file:\n",
    "    file.write(generate_array_string_2d(x_test_np, 'x_test0'))\n",
    "\n",
    "# Write TFLite model to a C source (or header) file\n",
    "with open(\"QSAR_x_train0_data_new\" + '.h', 'w') as file:\n",
    "    file.write(generate_array_string_2d(x_train_np, 'x_train0'))\n",
    "\n",
    "with open(\"QSAR_y_test0_data_new\" + '.h', 'w') as file:\n",
    "    file.write(generate_array_string_1d(y_test_np, 'y_test0'))\n",
    "\n",
    "with open(\"QSAR_y_train0_data_new\" + '.h', 'w') as file:\n",
    "    file.write(generate_array_string_1d(np.array(y_train), 'y_train0'))"
   ]
  }
 ],
 "metadata": {
  "kernelspec": {
   "display_name": "Python 3",
   "language": "python",
   "name": "python3"
  },
  "language_info": {
   "codemirror_mode": {
    "name": "ipython",
    "version": 3
   },
   "file_extension": ".py",
   "mimetype": "text/x-python",
   "name": "python",
   "nbconvert_exporter": "python",
   "pygments_lexer": "ipython3",
   "version": "3.7.16"
  }
 },
 "nbformat": 4,
 "nbformat_minor": 2
}
